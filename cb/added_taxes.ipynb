{
 "cells": [
  {
   "cell_type": "code",
   "execution_count": 126,
   "id": "a7d57963",
   "metadata": {},
   "outputs": [],
   "source": [
    "list_added_taxes = [\n",
    "    {\n",
    "        \"task_name\": \"consumer_india_withholding_tax\",\n",
    "        \"tax_identifier\": \"India Withholding Tax\",\n",
    "        \"tax_type\": \"Withholding Tax\",\n",
    "        \"tax_jurisdiction\": \"India\",\n",
    "        \"platform\": \"Consumer\",\n",
    "        \"start_date\": \"2022-07-22\",\n",
    "        \"fee_type\": \"tax\",\n",
    "        \"fee_title\":\"india_withholding\",\n",
    "        \"payable_currency\": \"INR\",\n",
    "    },\n",
    "    {\n",
    "        \"task_name\": \"consumer_australia_gst\",\n",
    "        \"tax_identifier\": \"Australia GST\",\n",
    "        \"tax_type\": \"GST\",\n",
    "        \"tax_jurisdiction\": \"Australia\",\n",
    "        \"platform\": \"Consumer\",\n",
    "        \"start_date\": \"2022-08-19\",\n",
    "        \"fee_type\": \"tax\",\n",
    "        \"fee_title\": \"australia_gst\",\n",
    "        \"payable_currency\": \"AUD\",\n",
    "    },\n",
    "    {\n",
    "        \"task_name\": \"rat_australia_gst\",\n",
    "        \"tax_identifier\": \"Australia GST\",\n",
    "        \"tax_type\": \"RAT GST\",\n",
    "        \"tax_jurisdiction\": \"Australia\",\n",
    "        \"platform\": \"RAT\",\n",
    "        \"start_date\": \"2022-09-10\",\n",
    "        \"currency\": \"AUD\",\n",
    "        \"payable_currency\": \"AUD\",\n",
    "    },\n",
    "    {\n",
    "        \"task_name\": \"consumer_singapore_gst\",\n",
    "        \"tax_identifier\": \"Singapore GST\",\n",
    "        \"tax_type\": \"GST\",\n",
    "        \"tax_jurisdiction\": \"Singapore\",\n",
    "        \"platform\": \"Consumer\",\n",
    "        \"start_date\": \"2022-11-13\",\n",
    "        \"fee_type\": \"tax\",\n",
    "        \"fee_title\": \"singapore_gst\",\n",
    "        \"payable_currency\": \"USD\",\n",
    "    },\n",
    "    {\n",
    "        \"task_name\": \"rat_singapore_gst\",\n",
    "        \"tax_identifier\": \"Singapore GST\",\n",
    "        \"tax_type\": \"RAT GST\",\n",
    "        \"tax_jurisdiction\": \"Singapore\",\n",
    "        \"platform\": \"RAT\",\n",
    "        \"start_date\": \"2022-07-18\",\n",
    "        \"currency\": \"SGD\",\n",
    "        \"payable_currency\": \"USD\",\n",
    "    },\n",
    "]\n"
   ]
  },
  {
   "cell_type": "code",
   "execution_count": 132,
   "id": "49ed5cdf",
   "metadata": {},
   "outputs": [
    {
     "data": {
      "text/plain": [
       "False"
      ]
     },
     "execution_count": 132,
     "metadata": {},
     "output_type": "execute_result"
    }
   ],
   "source": [
    "'INR' in list_added_taxes[0].values()"
   ]
  },
  {
   "cell_type": "code",
   "execution_count": null,
   "id": "0b818627",
   "metadata": {},
   "outputs": [],
   "source": []
  }
 ],
 "metadata": {
  "kernelspec": {
   "display_name": "Python 3 (ipykernel)",
   "language": "python",
   "name": "python3"
  },
  "language_info": {
   "codemirror_mode": {
    "name": "ipython",
    "version": 3
   },
   "file_extension": ".py",
   "mimetype": "text/x-python",
   "name": "python",
   "nbconvert_exporter": "python",
   "pygments_lexer": "ipython3",
   "version": "3.9.13"
  }
 },
 "nbformat": 4,
 "nbformat_minor": 5
}
